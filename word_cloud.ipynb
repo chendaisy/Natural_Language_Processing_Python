{
 "cells": [
  {
   "cell_type": "code",
   "execution_count": null,
   "metadata": {},
   "outputs": [],
   "source": [
    "import pandas as pd\n",
    "import wordcloud\n",
    "from wordcloud import WordCloud, STOPWORDS\n",
    "import matplotlib.pyplot as plt"
   ]
  },
  {
   "cell_type": "code",
   "execution_count": null,
   "metadata": {},
   "outputs": [],
   "source": [
    "#pull big data from hive and create a dataframe\n",
    "import pyodbc as py\n",
    "connection = py.connect('DSN=xxx', autocommit=True)\n",
    "sql = \"\"\"\n",
    "Select chat from [database].[table]\n",
    "\"\"\"\n",
    "data_frame = pd.read_sql_query(sql, connection)"
   ]
  },
  {
   "cell_type": "code",
   "execution_count": null,
   "metadata": {},
   "outputs": [],
   "source": [
    "stopwords = set(STOPWORDS) \n",
    "XY =  ['enters','specialist','you','Window','be','http',\n",
    "       'Would','Sprint','Hi','hold','will','Thank',\n",
    "       'problem','issue','said','see','want','issues',\n",
    "       'concern','im','Hello','able','okay','problems',\n",
    "       'still','now','ok','looking','tried','account','one','phone','new','phones'\n",
    "       ,'two','chat','dont','go','customer','concerned','Please','sure','help']"
   ]
  },
  {
   "cell_type": "code",
   "execution_count": null,
   "metadata": {},
   "outputs": [],
   "source": [
    "XZ = set(XY)\n",
    "type(XZ)\n",
    "z = XZ.union(stopwords)\n",
    "#SW = ['enters','specialist']\n",
    "\n",
    "wordcloud = WordCloud(width = 800, height = 800, \n",
    "                background_color ='white', \n",
    "                stopwords = z, \n",
    "                min_font_size = 10).generate(' '.join(data_frame['chat'])) \n",
    "\n",
    "plt.figure(figsize = (8, 8), facecolor = None) \n",
    "plt.imshow(wordcloud) \n",
    "plt.axis(\"off\") \n",
    "plt.tight_layout(pad = 0)   \n",
    "plt.show() "
   ]
  }
 ],
 "metadata": {
  "kernelspec": {
   "display_name": "Python 3",
   "language": "python",
   "name": "python3"
  },
  "language_info": {
   "codemirror_mode": {
    "name": "ipython",
    "version": 3
   },
   "file_extension": ".py",
   "mimetype": "text/x-python",
   "name": "python",
   "nbconvert_exporter": "python",
   "pygments_lexer": "ipython3",
   "version": "3.7.0"
  }
 },
 "nbformat": 4,
 "nbformat_minor": 2
}
